{
 "cells": [
  {
   "cell_type": "code",
   "execution_count": 5,
   "id": "6750b7f3",
   "metadata": {},
   "outputs": [],
   "source": [
    "import numpy as np\n",
    "\n",
    "#dirty trick to fix np error\n",
    "np.bool = np.bool_\n",
    "\n",
    "from LatinNERpipeline import LatinTokenizer, LatinNerPipeline\n",
    "\n",
    "from tensor2tensor.data_generators import text_encoder\n",
    "\n",
    "from transformers import AutoModelForTokenClassification\n",
    "\n",
    "model = AutoModelForTokenClassification.from_pretrained('Herodotos_trained_lat_BERT_hypopt_params')\n",
    "\n",
    "#in order to do this, you should clone the \"Latin-BERT\" repository at https://github.com/dbamman/latin-bert\n",
    "tokenizer = LatinTokenizer(text_encoder.SubwordTextEncoder('../latin-bert/models/subword_tokenizer_latin/latin.subword.encoder'))\n",
    "\n",
    "my_pipeline = LatinNerPipeline(model=model, tokenizer=tokenizer)"
   ]
  },
  {
   "cell_type": "code",
   "execution_count": 6,
   "id": "385e9acf",
   "metadata": {},
   "outputs": [],
   "source": [
    "test =  [['Quousque', 'tandem', 'abutere', ',', 'Catilina', 'patientia', 'nostra', '?']]\n",
    "predict = my_pipeline(test, split_on_words=True)\n",
    "labels = predict[0]['labels']"
   ]
  },
  {
   "cell_type": "code",
   "execution_count": 7,
   "id": "b99ff98d",
   "metadata": {},
   "outputs": [
    {
     "name": "stdout",
     "output_type": "stream",
     "text": [
      "['O', 'O', 'O', 'O', 'B-PERS', 'O', 'O', 'O']\n"
     ]
    }
   ],
   "source": [
    "print(labels)"
   ]
  },
  {
   "cell_type": "code",
   "execution_count": 8,
   "id": "b37389e8",
   "metadata": {},
   "outputs": [
    {
     "data": {
      "text/plain": [
       "8"
      ]
     },
     "execution_count": 8,
     "metadata": {},
     "output_type": "execute_result"
    }
   ],
   "source": [
    "len(test[0])"
   ]
  },
  {
   "cell_type": "code",
   "execution_count": 9,
   "id": "e70b6357",
   "metadata": {},
   "outputs": [],
   "source": [
    "#this is also possible, it just tokenizes on whitespace\n",
    "test =  ['Quousque tandem abutere, Catilina patientia nostra?', 'Vale']\n",
    "predict = my_pipeline(test, split_on_words=False)\n",
    "labels = predict[0]['labels']"
   ]
  },
  {
   "cell_type": "code",
   "execution_count": 10,
   "id": "0736ab85",
   "metadata": {},
   "outputs": [
    {
     "name": "stdout",
     "output_type": "stream",
     "text": [
      "6\n",
      "6\n"
     ]
    }
   ],
   "source": [
    "print(len(labels))\n",
    "print(len(test[0].split()))"
   ]
  }
 ],
 "metadata": {
  "kernelspec": {
   "display_name": "Python 3 (ipykernel)",
   "language": "python",
   "name": "python3"
  },
  "language_info": {
   "codemirror_mode": {
    "name": "ipython",
    "version": 3
   },
   "file_extension": ".py",
   "mimetype": "text/x-python",
   "name": "python",
   "nbconvert_exporter": "python",
   "pygments_lexer": "ipython3",
   "version": "3.10.12"
  }
 },
 "nbformat": 4,
 "nbformat_minor": 5
}
