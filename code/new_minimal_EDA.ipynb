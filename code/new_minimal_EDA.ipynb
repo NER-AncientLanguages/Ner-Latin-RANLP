{
 "cells": [
  {
   "cell_type": "markdown",
   "metadata": {},
   "source": [
    "# Minimal EDA"
   ]
  },
  {
   "cell_type": "markdown",
   "metadata": {},
   "source": [
    "## make train-test data"
   ]
  },
  {
   "cell_type": "code",
   "execution_count": 86,
   "metadata": {},
   "outputs": [
    {
     "name": "stdout",
     "output_type": "stream",
     "text": [
      "Tue May 30 15:02:18 2023       \n",
      "+---------------------------------------------------------------------------------------+\n",
      "| NVIDIA-SMI 530.30.02              Driver Version: 525.60.13    CUDA Version: 12.1     |\n",
      "|-----------------------------------------+----------------------+----------------------+\n",
      "| GPU  Name                  Persistence-M| Bus-Id        Disp.A | Volatile Uncorr. ECC |\n",
      "| Fan  Temp  Perf            Pwr:Usage/Cap|         Memory-Usage | GPU-Util  Compute M. |\n",
      "|                                         |                      |               MIG M. |\n",
      "|=========================================+======================+======================|\n",
      "|   0  NVIDIA GeForce RTX 3090         Off| 00000000:01:00.0 Off |                  N/A |\n",
      "| 30%   26C    P8               14W / 350W|      2MiB / 24576MiB |      0%      Default |\n",
      "|                                         |                      |                  N/A |\n",
      "+-----------------------------------------+----------------------+----------------------+\n",
      "|   1  NVIDIA GeForce RTX 3090         Off| 00000000:41:00.0 Off |                  N/A |\n",
      "| 30%   25C    P8               18W / 350W|      2MiB / 24576MiB |      0%      Default |\n",
      "|                                         |                      |                  N/A |\n",
      "+-----------------------------------------+----------------------+----------------------+\n",
      "|   2  NVIDIA GeForce RTX 3090         Off| 00000000:81:00.0 Off |                  N/A |\n",
      "| 30%   24C    P8                9W / 350W|      2MiB / 24576MiB |      0%      Default |\n",
      "|                                         |                      |                  N/A |\n",
      "+-----------------------------------------+----------------------+----------------------+\n",
      "|   3  NVIDIA GeForce RTX 3090         Off| 00000000:C1:00.0 Off |                  N/A |\n",
      "| 30%   26C    P8               15W / 350W|      2MiB / 24576MiB |      0%      Default |\n",
      "|                                         |                      |                  N/A |\n",
      "+-----------------------------------------+----------------------+----------------------+\n",
      "                                                                                         \n",
      "+---------------------------------------------------------------------------------------+\n",
      "| Processes:                                                                            |\n",
      "|  GPU   GI   CI        PID   Type   Process name                            GPU Memory |\n",
      "|        ID   ID                                                             Usage      |\n",
      "|=======================================================================================|\n",
      "|  No running processes found                                                           |\n",
      "+---------------------------------------------------------------------------------------+\n"
     ]
    }
   ],
   "source": [
    "!nvidia-smi"
   ]
  },
  {
   "cell_type": "code",
   "execution_count": 87,
   "metadata": {},
   "outputs": [
    {
     "data": {
      "text/plain": [
       "1"
      ]
     },
     "execution_count": 87,
     "metadata": {},
     "output_type": "execute_result"
    }
   ],
   "source": [
    "import os\n",
    "os.environ[\"CUDA_DEVICE_ORDER\"]=\"PCI_BUS_ID\"# see issue #152\n",
    "os.environ[\"CUDA_VISIBLE_DEVICES\"]=\"0\"\n",
    "\n",
    "\n",
    "import torch\n",
    "torch.cuda.device_count()"
   ]
  },
  {
   "cell_type": "code",
   "execution_count": 88,
   "metadata": {},
   "outputs": [],
   "source": [
    "import pandas as pd"
   ]
  },
  {
   "cell_type": "code",
   "execution_count": 89,
   "metadata": {},
   "outputs": [],
   "source": [
    "def df_from_file(file, orig_text=None):\n",
    "    with open('Annotation_1-1-19/'+file, 'r', encoding='UTF-8') as f:\n",
    "        text = f.read()\n",
    "        #split on sentence\n",
    "        sents = text.split('\\n\\n')\n",
    "        #split on token\n",
    "        tokens = [sent.split('\\n') for sent in sents]\n",
    "        tokenstags = [[token.split('\\t') for token in sent] for sent in tokens]\n",
    "\n",
    "\n",
    "    #add sentence number so we can put it in a df\n",
    "    correct_tags = []    \n",
    "    for i in range(len(tokenstags)):\n",
    "        new_sublist = []\n",
    "        for token in tokenstags[i]:\n",
    "            try:\n",
    "                new_sublist.append([token[1], token[0], i])\n",
    "            except IndexError:\n",
    "                print(i)\n",
    "        correct_tags.append(new_sublist)\n",
    "\n",
    "    flatten = [val for sublist in correct_tags for val in sublist]\n",
    "    \n",
    "    df = pd.DataFrame(flatten)\n",
    "    df.rename(columns={0:'word', 1:'tag',2:'sentence'}, inplace=True)\n",
    "    if orig_text:\n",
    "        df['orig_text'] = orig_text\n",
    "    else:\n",
    "        df['orig_text'] = file\n",
    "    return df\n"
   ]
  },
  {
   "cell_type": "code",
   "execution_count": 90,
   "metadata": {},
   "outputs": [
    {
     "name": "stdout",
     "output_type": "stream",
     "text": [
      "257\n"
     ]
    }
   ],
   "source": [
    "CW = df_from_file('CW.crf', 'CW')"
   ]
  },
  {
   "cell_type": "code",
   "execution_count": 91,
   "metadata": {},
   "outputs": [],
   "source": [
    "import pandas as pd\n",
    "\n",
    "#to (BIO-format)\n",
    "CW['tag'] = CW['tag'].apply(lambda x: str(x).replace('GEO-B','B-LOC').replace('GEO-I','I-LOC'))\n",
    "CW['tag'] = CW['tag'].apply(lambda x: str(x).replace('GRP-B','B-GRP').replace('GRP-I','I-GRP'))\n",
    "CW['tag'] = CW['tag'].apply(lambda x: str(x).replace('PRS-B','B-PERS').replace('PRS-I','I-PERS'))\n",
    "CW['tag'] = CW['tag'].apply(lambda x: str(x).replace('0', 'O'))\n",
    "\n"
   ]
  },
  {
   "cell_type": "code",
   "execution_count": 92,
   "metadata": {
    "scrolled": false
   },
   "outputs": [
    {
     "data": {
      "text/plain": [
       "O         4399\n",
       "B-PERS     254\n",
       "B-LOC      113\n",
       "I-PERS      50\n",
       "B-GRP       20\n",
       "Name: tag, dtype: int64"
      ]
     },
     "execution_count": 92,
     "metadata": {},
     "output_type": "execute_result"
    }
   ],
   "source": [
    "CW['tag'].value_counts()"
   ]
  },
  {
   "cell_type": "markdown",
   "metadata": {},
   "source": [
    "# GW"
   ]
  },
  {
   "cell_type": "markdown",
   "metadata": {},
   "source": [
    "We do not retain the original train-test split. The train and test sets were split at a 'cutoff point,' so by simply concatenating the train and test data in order, we obtain the complete DBG."
   ]
  },
  {
   "cell_type": "code",
   "execution_count": 93,
   "metadata": {},
   "outputs": [
    {
     "name": "stdout",
     "output_type": "stream",
     "text": [
      "1724\n"
     ]
    },
    {
     "data": {
      "text/plain": [
       "O         37952\n",
       "B-GRP       953\n",
       "B-PERS      902\n",
       "B-LOC       395\n",
       "I-PERS      174\n",
       "I-LOC        16\n",
       "I-GRP         1\n",
       "Name: tag, dtype: int64"
      ]
     },
     "execution_count": 93,
     "metadata": {},
     "output_type": "execute_result"
    }
   ],
   "source": [
    "GW = df_from_file('GWtrain.crf', 'GW')\n",
    "\n",
    "import pandas as pd\n",
    "\n",
    "#to (BIO-format)\n",
    "GW['tag'] = GW['tag'].apply(lambda x: str(x).replace('GEO-B','B-LOC').replace('GEO-I','I-LOC'))\n",
    "GW['tag'] = GW['tag'].apply(lambda x: str(x).replace('GRP-B','B-GRP').replace('GRP-I','I-GRP'))\n",
    "GW['tag'] = GW['tag'].apply(lambda x: str(x).replace('PRS-B','B-PERS').replace('PRS-I','I-PERS'))\n",
    "GW['tag'] = GW['tag'].apply(lambda x: str(x).replace('0', 'O'))\n",
    "\n",
    "\n",
    "\n",
    "GW['tag'].value_counts()"
   ]
  },
  {
   "cell_type": "code",
   "execution_count": 94,
   "metadata": {},
   "outputs": [
    {
     "name": "stdout",
     "output_type": "stream",
     "text": [
      "851\n"
     ]
    }
   ],
   "source": [
    "with open('Annotation_1-1-19/GWtest.crf', 'r', encoding='UTF-8') as f:\n",
    "    text = f.read()\n",
    "    #split on sentence\n",
    "    sents = text.split('\\n\\n')\n",
    "    #split on token\n",
    "    tokens = [sent.split('\\n') for sent in sents]\n",
    "    tokenstags = [[token.split('\\t') for token in sent] for sent in tokens]\n",
    "\n",
    "\n",
    "    #add sentence number so we can put it in a df\n",
    "correct_tags = []    \n",
    "\n",
    "for i in range(len(tokenstags)):\n",
    "    new_sublist = []\n",
    "    for token in tokenstags[i]:\n",
    "        try:\n",
    "            new_sublist.append([token[1], token[0], i+len(GW.groupby('sentence'))])\n",
    "        except IndexError:\n",
    "            print(i)\n",
    "    correct_tags.append(new_sublist)\n",
    "\n",
    "flatten = [val for sublist in correct_tags for val in sublist]\n"
   ]
  },
  {
   "cell_type": "code",
   "execution_count": 95,
   "metadata": {},
   "outputs": [
    {
     "data": {
      "text/plain": [
       "O         17517\n",
       "B-GRP       411\n",
       "B-PERS      313\n",
       "B-LOC       203\n",
       "I-PERS       47\n",
       "I-GRP         5\n",
       "I-LOC         2\n",
       "Name: tag, dtype: int64"
      ]
     },
     "execution_count": 95,
     "metadata": {},
     "output_type": "execute_result"
    }
   ],
   "source": [
    "GW2 = pd.DataFrame(flatten)\n",
    "\n",
    "GW2.rename(columns={0:'word', 1:'tag',2:'sentence'}, inplace=True)\n",
    "\n",
    "\n",
    "GW2['orig_text'] = 'GW'\n",
    "\n",
    "#to (BIO-format)\n",
    "GW2['tag'] = GW2['tag'].apply(lambda x: str(x).replace('GEO-B','B-LOC').replace('GEO-I','I-LOC'))\n",
    "GW2['tag'] = GW2['tag'].apply(lambda x: str(x).replace('GRP-B','B-GRP').replace('GRP-I','I-GRP'))\n",
    "GW2['tag'] = GW2['tag'].apply(lambda x: str(x).replace('PRS-B','B-PERS').replace('PRS-I','I-PERS'))\n",
    "GW2['tag'] = GW2['tag'].apply(lambda x: str(x).replace('0', 'O'))\n",
    "\n",
    "\n",
    "\n",
    "GW2['tag'].value_counts()"
   ]
  },
  {
   "cell_type": "code",
   "execution_count": 96,
   "metadata": {},
   "outputs": [],
   "source": [
    "GW_all = pd.concat([GW, GW2], ignore_index=True)"
   ]
  },
  {
   "cell_type": "markdown",
   "metadata": {},
   "source": [
    "# PlinyElder"
   ]
  },
  {
   "cell_type": "code",
   "execution_count": 97,
   "metadata": {},
   "outputs": [
    {
     "name": "stdout",
     "output_type": "stream",
     "text": [
      "3590\n"
     ]
    },
    {
     "data": {
      "text/plain": [
       "O         32884\n",
       "B-PERS     1808\n",
       "B-LOC       468\n",
       "I-PERS      410\n",
       "B-GRP       307\n",
       "I-LOC        30\n",
       "I-GRP         3\n",
       "Name: tag, dtype: int64"
      ]
     },
     "execution_count": 97,
     "metadata": {},
     "output_type": "execute_result"
    }
   ],
   "source": [
    "PE = df_from_file('PlinyElder.crf', 'PlinyElder')\n",
    "\n",
    "import pandas as pd\n",
    "\n",
    "#to (BIO-format)\n",
    "PE['tag'] = PE['tag'].apply(lambda x: str(x).replace('GEO-B','B-LOC').replace('GEO-I','I-LOC'))\n",
    "PE['tag'] = PE['tag'].apply(lambda x: str(x).replace('GRP-B','B-GRP').replace('GRP-I','I-GRP'))\n",
    "PE['tag'] = PE['tag'].apply(lambda x: str(x).replace('PRS-B','B-PERS').replace('PRS-I','I-PERS'))\n",
    "PE['tag'] = PE['tag'].apply(lambda x: str(x).replace('0', 'O'))\n",
    "\n",
    "\n",
    "\n",
    "PE['tag'].value_counts()"
   ]
  },
  {
   "cell_type": "markdown",
   "metadata": {},
   "source": [
    "# PlinyYounger"
   ]
  },
  {
   "cell_type": "code",
   "execution_count": 98,
   "metadata": {},
   "outputs": [
    {
     "name": "stdout",
     "output_type": "stream",
     "text": [
      "1335\n"
     ]
    },
    {
     "data": {
      "text/plain": [
       "O         18058\n",
       "B-PERS      376\n",
       "I-PERS      160\n",
       "B-LOC        47\n",
       "B-GRP        34\n",
       "I-LOC         1\n",
       "Name: tag, dtype: int64"
      ]
     },
     "execution_count": 98,
     "metadata": {},
     "output_type": "execute_result"
    }
   ],
   "source": [
    "PY = df_from_file('PlinyYounger.crf', 'PlinyYounger')\n",
    "\n",
    "import pandas as pd\n",
    "\n",
    "#to (BIO-format)\n",
    "PY['tag'] = PY['tag'].apply(lambda x: str(x).replace('GEO-B','B-LOC').replace('GEO-I','I-LOC'))\n",
    "PY['tag'] = PY['tag'].apply(lambda x: str(x).replace('GRP-B','B-GRP').replace('GRP-I','I-GRP'))\n",
    "PY['tag'] = PY['tag'].apply(lambda x: str(x).replace('PRS-B','B-PERS').replace('PRS-I','I-PERS'))\n",
    "PY['tag'] = PY['tag'].apply(lambda x: str(x).replace('0', 'O'))\n",
    "\n",
    "\n",
    "\n",
    "PY['tag'].value_counts()"
   ]
  },
  {
   "cell_type": "markdown",
   "metadata": {},
   "source": [
    "# Ovid"
   ]
  },
  {
   "cell_type": "code",
   "execution_count": 99,
   "metadata": {},
   "outputs": [
    {
     "name": "stdout",
     "output_type": "stream",
     "text": [
      "2434\n"
     ]
    },
    {
     "data": {
      "text/plain": [
       "O         16990\n",
       "B-PERS      377\n",
       "B-GRP       107\n",
       "B-LOC        87\n",
       "I-PERS        1\n",
       "Name: tag, dtype: int64"
      ]
     },
     "execution_count": 99,
     "metadata": {},
     "output_type": "execute_result"
    }
   ],
   "source": [
    "OV = df_from_file('Ovid.crf', 'Ovid')\n",
    "\n",
    "import pandas as pd\n",
    "\n",
    "#to (BIO-format)\n",
    "OV['tag'] = OV['tag'].apply(lambda x: str(x).replace('GEO-B','B-LOC').replace('GEO-I','I-LOC'))\n",
    "OV['tag'] = OV['tag'].apply(lambda x: str(x).replace('GRP-B','B-GRP').replace('GRP-I','I-GRP'))\n",
    "OV['tag'] = OV['tag'].apply(lambda x: str(x).replace('PRS-B','B-PERS').replace('PRS-I','I-PERS'))\n",
    "OV['tag'] = OV['tag'].apply(lambda x: str(x).replace('0', 'O'))\n",
    "\n",
    "\n",
    "\n",
    "OV['tag'].value_counts()"
   ]
  },
  {
   "cell_type": "code",
   "execution_count": 100,
   "metadata": {},
   "outputs": [
    {
     "name": "stdout",
     "output_type": "stream",
     "text": [
      "<class 'pandas.core.frame.DataFrame'>\n",
      "Int64Index: 135875 entries, 0 to 17561\n",
      "Data columns (total 4 columns):\n",
      " #   Column     Non-Null Count   Dtype \n",
      "---  ------     --------------   ----- \n",
      " 0   word       135875 non-null  object\n",
      " 1   tag        135875 non-null  object\n",
      " 2   sentence   135875 non-null  int64 \n",
      " 3   orig_text  135875 non-null  object\n",
      "dtypes: int64(1), object(3)\n",
      "memory usage: 5.2+ MB\n"
     ]
    }
   ],
   "source": [
    "main_df = pd.concat([CW, GW_all, PE, PY, OV])\n",
    "\n",
    "main_df.info()"
   ]
  },
  {
   "cell_type": "code",
   "execution_count": 101,
   "metadata": {},
   "outputs": [],
   "source": [
    "main_df.reset_index(drop=True, inplace=True)"
   ]
  },
  {
   "cell_type": "code",
   "execution_count": 102,
   "metadata": {},
   "outputs": [],
   "source": [
    "# main_df.to_csv('data/latin_NER_dataset.csv')"
   ]
  },
  {
   "cell_type": "code",
   "execution_count": 103,
   "metadata": {},
   "outputs": [],
   "source": [
    "# main_df = pd.read_csv('data/latin_NER_dataset.csv', index_col=0)"
   ]
  },
  {
   "cell_type": "code",
   "execution_count": 104,
   "metadata": {},
   "outputs": [
    {
     "name": "stdout",
     "output_type": "stream",
     "text": [
      "<class 'pandas.core.frame.DataFrame'>\n",
      "RangeIndex: 135875 entries, 0 to 135874\n",
      "Data columns (total 4 columns):\n",
      " #   Column     Non-Null Count   Dtype \n",
      "---  ------     --------------   ----- \n",
      " 0   word       135875 non-null  object\n",
      " 1   tag        135875 non-null  object\n",
      " 2   sentence   135875 non-null  int64 \n",
      " 3   orig_text  135875 non-null  object\n",
      "dtypes: int64(1), object(3)\n",
      "memory usage: 4.1+ MB\n"
     ]
    }
   ],
   "source": [
    "main_df.info()"
   ]
  },
  {
   "cell_type": "code",
   "execution_count": 105,
   "metadata": {},
   "outputs": [
    {
     "data": {
      "text/plain": [
       "O         127800\n",
       "B-PERS      4030\n",
       "B-GRP       1832\n",
       "B-LOC       1313\n",
       "I-PERS       842\n",
       "I-LOC         49\n",
       "I-GRP          9\n",
       "Name: tag, dtype: int64"
      ]
     },
     "execution_count": 105,
     "metadata": {},
     "output_type": "execute_result"
    }
   ],
   "source": [
    "main_df['tag'].value_counts()"
   ]
  },
  {
   "cell_type": "code",
   "execution_count": 106,
   "metadata": {},
   "outputs": [
    {
     "data": {
      "text/plain": [
       "GW              58891\n",
       "PlinyElder      35910\n",
       "PlinyYounger    18676\n",
       "Ovid            17562\n",
       "CW               4836\n",
       "Name: orig_text, dtype: int64"
      ]
     },
     "execution_count": 106,
     "metadata": {},
     "output_type": "execute_result"
    }
   ],
   "source": [
    "main_df['orig_text'].value_counts()"
   ]
  },
  {
   "cell_type": "code",
   "execution_count": 107,
   "metadata": {},
   "outputs": [],
   "source": [
    "main_df['sent_id'] = main_df['orig_text'] + '_' + main_df['sentence'].astype(str)"
   ]
  },
  {
   "cell_type": "code",
   "execution_count": 108,
   "metadata": {},
   "outputs": [
    {
     "data": {
      "text/html": [
       "<div>\n",
       "<style scoped>\n",
       "    .dataframe tbody tr th:only-of-type {\n",
       "        vertical-align: middle;\n",
       "    }\n",
       "\n",
       "    .dataframe tbody tr th {\n",
       "        vertical-align: top;\n",
       "    }\n",
       "\n",
       "    .dataframe thead th {\n",
       "        text-align: right;\n",
       "    }\n",
       "</style>\n",
       "<table border=\"1\" class=\"dataframe\">\n",
       "  <thead>\n",
       "    <tr style=\"text-align: right;\">\n",
       "      <th></th>\n",
       "      <th>word</th>\n",
       "      <th>tag</th>\n",
       "      <th>sentence</th>\n",
       "      <th>orig_text</th>\n",
       "      <th>sent_id</th>\n",
       "    </tr>\n",
       "  </thead>\n",
       "  <tbody>\n",
       "    <tr>\n",
       "      <th>0</th>\n",
       "      <td>C.</td>\n",
       "      <td>B-PERS</td>\n",
       "      <td>0</td>\n",
       "      <td>CW</td>\n",
       "      <td>CW_0</td>\n",
       "    </tr>\n",
       "    <tr>\n",
       "      <th>1</th>\n",
       "      <td>Iuli</td>\n",
       "      <td>I-PERS</td>\n",
       "      <td>0</td>\n",
       "      <td>CW</td>\n",
       "      <td>CW_0</td>\n",
       "    </tr>\n",
       "    <tr>\n",
       "      <th>2</th>\n",
       "      <td>Caesaris</td>\n",
       "      <td>I-PERS</td>\n",
       "      <td>0</td>\n",
       "      <td>CW</td>\n",
       "      <td>CW_0</td>\n",
       "    </tr>\n",
       "    <tr>\n",
       "      <th>3</th>\n",
       "      <td>Commentariorum</td>\n",
       "      <td>O</td>\n",
       "      <td>0</td>\n",
       "      <td>CW</td>\n",
       "      <td>CW_0</td>\n",
       "    </tr>\n",
       "    <tr>\n",
       "      <th>4</th>\n",
       "      <td>De</td>\n",
       "      <td>O</td>\n",
       "      <td>0</td>\n",
       "      <td>CW</td>\n",
       "      <td>CW_0</td>\n",
       "    </tr>\n",
       "  </tbody>\n",
       "</table>\n",
       "</div>"
      ],
      "text/plain": [
       "             word     tag  sentence orig_text sent_id\n",
       "0              C.  B-PERS         0        CW    CW_0\n",
       "1            Iuli  I-PERS         0        CW    CW_0\n",
       "2        Caesaris  I-PERS         0        CW    CW_0\n",
       "3  Commentariorum       O         0        CW    CW_0\n",
       "4              De       O         0        CW    CW_0"
      ]
     },
     "execution_count": 108,
     "metadata": {},
     "output_type": "execute_result"
    }
   ],
   "source": [
    "main_df.head()"
   ]
  },
  {
   "cell_type": "code",
   "execution_count": 109,
   "metadata": {},
   "outputs": [],
   "source": [
    "def df_sort_groups(df, by='sentence'):\n",
    "    grouped = df.groupby(by)\n",
    "\n",
    "    new_df = pd.DataFrame(columns = ['word', 'tag', 'sentence'])\n",
    "\n",
    "    for name, group in grouped:\n",
    "        new_df = pd.concat([new_df, group])\n",
    "        \n",
    "    return new_df\n",
    "\n",
    "def df_nested_sort_groups(df, by='orig_text'):\n",
    "    grouped = df.groupby(by)\n",
    "    \n",
    "    new_df = pd.DataFrame(columns = ['word', 'tag', 'sentence'])\n",
    "    \n",
    "    for name, group in grouped:\n",
    "        group = df_sort_groups(group)\n",
    "        new_df = pd.concat([new_df, group])\n",
    "        \n",
    "    return new_df\n",
    "\n",
    "hel = df_nested_sort_groups(main_df)"
   ]
  },
  {
   "cell_type": "code",
   "execution_count": 110,
   "metadata": {},
   "outputs": [
    {
     "data": {
      "text/html": [
       "<div>\n",
       "<style scoped>\n",
       "    .dataframe tbody tr th:only-of-type {\n",
       "        vertical-align: middle;\n",
       "    }\n",
       "\n",
       "    .dataframe tbody tr th {\n",
       "        vertical-align: top;\n",
       "    }\n",
       "\n",
       "    .dataframe thead th {\n",
       "        text-align: right;\n",
       "    }\n",
       "</style>\n",
       "<table border=\"1\" class=\"dataframe\">\n",
       "  <thead>\n",
       "    <tr style=\"text-align: right;\">\n",
       "      <th></th>\n",
       "      <th>word</th>\n",
       "      <th>tag</th>\n",
       "      <th>sentence</th>\n",
       "      <th>orig_text</th>\n",
       "      <th>sent_id</th>\n",
       "    </tr>\n",
       "  </thead>\n",
       "  <tbody>\n",
       "    <tr>\n",
       "      <th>118273</th>\n",
       "      <td>delitescere</td>\n",
       "      <td>O</td>\n",
       "      <td>1333</td>\n",
       "      <td>PlinyYounger</td>\n",
       "      <td>PlinyYounger_1333</td>\n",
       "    </tr>\n",
       "    <tr>\n",
       "      <th>118274</th>\n",
       "      <td>potest</td>\n",
       "      <td>O</td>\n",
       "      <td>1333</td>\n",
       "      <td>PlinyYounger</td>\n",
       "      <td>PlinyYounger_1333</td>\n",
       "    </tr>\n",
       "    <tr>\n",
       "      <th>118275</th>\n",
       "      <td>.</td>\n",
       "      <td>O</td>\n",
       "      <td>1333</td>\n",
       "      <td>PlinyYounger</td>\n",
       "      <td>PlinyYounger_1333</td>\n",
       "    </tr>\n",
       "    <tr>\n",
       "      <th>118276</th>\n",
       "      <td>Erat</td>\n",
       "      <td>O</td>\n",
       "      <td>1334</td>\n",
       "      <td>PlinyYounger</td>\n",
       "      <td>PlinyYounger_1334</td>\n",
       "    </tr>\n",
       "    <tr>\n",
       "      <th>118277</th>\n",
       "      <td>in</td>\n",
       "      <td>O</td>\n",
       "      <td>1334</td>\n",
       "      <td>PlinyYounger</td>\n",
       "      <td>PlinyYounger_1334</td>\n",
       "    </tr>\n",
       "    <tr>\n",
       "      <th>118278</th>\n",
       "      <td>consilio</td>\n",
       "      <td>O</td>\n",
       "      <td>1334</td>\n",
       "      <td>PlinyYounger</td>\n",
       "      <td>PlinyYounger_1334</td>\n",
       "    </tr>\n",
       "    <tr>\n",
       "      <th>118279</th>\n",
       "      <td>Sertorianum</td>\n",
       "      <td>B-PERS</td>\n",
       "      <td>1334</td>\n",
       "      <td>PlinyYounger</td>\n",
       "      <td>PlinyYounger_1334</td>\n",
       "    </tr>\n",
       "    <tr>\n",
       "      <th>118280</th>\n",
       "      <td>illud</td>\n",
       "      <td>O</td>\n",
       "      <td>1334</td>\n",
       "      <td>PlinyYounger</td>\n",
       "      <td>PlinyYounger_1334</td>\n",
       "    </tr>\n",
       "    <tr>\n",
       "      <th>118281</th>\n",
       "      <td>exemplum</td>\n",
       "      <td>O</td>\n",
       "      <td>1334</td>\n",
       "      <td>PlinyYounger</td>\n",
       "      <td>PlinyYounger_1334</td>\n",
       "    </tr>\n",
       "    <tr>\n",
       "      <th>118282</th>\n",
       "      <td>,</td>\n",
       "      <td>O</td>\n",
       "      <td>1334</td>\n",
       "      <td>PlinyYounger</td>\n",
       "      <td>PlinyYounger_1334</td>\n",
       "    </tr>\n",
       "    <tr>\n",
       "      <th>118283</th>\n",
       "      <td>qui</td>\n",
       "      <td>O</td>\n",
       "      <td>1334</td>\n",
       "      <td>PlinyYounger</td>\n",
       "      <td>PlinyYounger_1334</td>\n",
       "    </tr>\n",
       "    <tr>\n",
       "      <th>118284</th>\n",
       "      <td>robustissimum</td>\n",
       "      <td>O</td>\n",
       "      <td>1334</td>\n",
       "      <td>PlinyYounger</td>\n",
       "      <td>PlinyYounger_1334</td>\n",
       "    </tr>\n",
       "    <tr>\n",
       "      <th>118285</th>\n",
       "      <td>et</td>\n",
       "      <td>O</td>\n",
       "      <td>1334</td>\n",
       "      <td>PlinyYounger</td>\n",
       "      <td>PlinyYounger_1334</td>\n",
       "    </tr>\n",
       "    <tr>\n",
       "      <th>118286</th>\n",
       "      <td>infirmissimum</td>\n",
       "      <td>O</td>\n",
       "      <td>1334</td>\n",
       "      <td>PlinyYounger</td>\n",
       "      <td>PlinyYounger_1334</td>\n",
       "    </tr>\n",
       "    <tr>\n",
       "      <th>118287</th>\n",
       "      <td>militem</td>\n",
       "      <td>O</td>\n",
       "      <td>1334</td>\n",
       "      <td>PlinyYounger</td>\n",
       "      <td>PlinyYounger_1334</td>\n",
       "    </tr>\n",
       "    <tr>\n",
       "      <th>118288</th>\n",
       "      <td>iussit</td>\n",
       "      <td>O</td>\n",
       "      <td>1334</td>\n",
       "      <td>PlinyYounger</td>\n",
       "      <td>PlinyYounger_1334</td>\n",
       "    </tr>\n",
       "    <tr>\n",
       "      <th>118289</th>\n",
       "      <td>caudam</td>\n",
       "      <td>O</td>\n",
       "      <td>1334</td>\n",
       "      <td>PlinyYounger</td>\n",
       "      <td>PlinyYounger_1334</td>\n",
       "    </tr>\n",
       "    <tr>\n",
       "      <th>118290</th>\n",
       "      <td>equi</td>\n",
       "      <td>O</td>\n",
       "      <td>1334</td>\n",
       "      <td>PlinyYounger</td>\n",
       "      <td>PlinyYounger_1334</td>\n",
       "    </tr>\n",
       "    <tr>\n",
       "      <th>118291</th>\n",
       "      <td>-</td>\n",
       "      <td>O</td>\n",
       "      <td>1334</td>\n",
       "      <td>PlinyYounger</td>\n",
       "      <td>PlinyYounger_1334</td>\n",
       "    </tr>\n",
       "    <tr>\n",
       "      <th>118292</th>\n",
       "      <td>reliqua</td>\n",
       "      <td>O</td>\n",
       "      <td>1334</td>\n",
       "      <td>PlinyYounger</td>\n",
       "      <td>PlinyYounger_1334</td>\n",
       "    </tr>\n",
       "    <tr>\n",
       "      <th>118293</th>\n",
       "      <td>nosti</td>\n",
       "      <td>O</td>\n",
       "      <td>1334</td>\n",
       "      <td>PlinyYounger</td>\n",
       "      <td>PlinyYounger_1334</td>\n",
       "    </tr>\n",
       "    <tr>\n",
       "      <th>118294</th>\n",
       "      <td>.</td>\n",
       "      <td>O</td>\n",
       "      <td>1334</td>\n",
       "      <td>PlinyYounger</td>\n",
       "      <td>PlinyYounger_1334</td>\n",
       "    </tr>\n",
       "    <tr>\n",
       "      <th>118295</th>\n",
       "      <td>Nam</td>\n",
       "      <td>O</td>\n",
       "      <td>1335</td>\n",
       "      <td>PlinyYounger</td>\n",
       "      <td>PlinyYounger_1335</td>\n",
       "    </tr>\n",
       "    <tr>\n",
       "      <th>118296</th>\n",
       "      <td>nos</td>\n",
       "      <td>O</td>\n",
       "      <td>1335</td>\n",
       "      <td>PlinyYounger</td>\n",
       "      <td>PlinyYounger_1335</td>\n",
       "    </tr>\n",
       "    <tr>\n",
       "      <th>118297</th>\n",
       "      <td>quoque</td>\n",
       "      <td>O</td>\n",
       "      <td>1335</td>\n",
       "      <td>PlinyYounger</td>\n",
       "      <td>PlinyYounger_1335</td>\n",
       "    </tr>\n",
       "    <tr>\n",
       "      <th>118298</th>\n",
       "      <td>tam</td>\n",
       "      <td>O</td>\n",
       "      <td>1335</td>\n",
       "      <td>PlinyYounger</td>\n",
       "      <td>PlinyYounger_1335</td>\n",
       "    </tr>\n",
       "    <tr>\n",
       "      <th>118299</th>\n",
       "      <td>numerosum</td>\n",
       "      <td>O</td>\n",
       "      <td>1335</td>\n",
       "      <td>PlinyYounger</td>\n",
       "      <td>PlinyYounger_1335</td>\n",
       "    </tr>\n",
       "    <tr>\n",
       "      <th>118300</th>\n",
       "      <td>agmen</td>\n",
       "      <td>O</td>\n",
       "      <td>1335</td>\n",
       "      <td>PlinyYounger</td>\n",
       "      <td>PlinyYounger_1335</td>\n",
       "    </tr>\n",
       "    <tr>\n",
       "      <th>118301</th>\n",
       "      <td>reorum</td>\n",
       "      <td>O</td>\n",
       "      <td>1335</td>\n",
       "      <td>PlinyYounger</td>\n",
       "      <td>PlinyYounger_1335</td>\n",
       "    </tr>\n",
       "    <tr>\n",
       "      <th>118302</th>\n",
       "      <td>ita</td>\n",
       "      <td>O</td>\n",
       "      <td>1335</td>\n",
       "      <td>PlinyYounger</td>\n",
       "      <td>PlinyYounger_1335</td>\n",
       "    </tr>\n",
       "    <tr>\n",
       "      <th>118303</th>\n",
       "      <td>demum</td>\n",
       "      <td>O</td>\n",
       "      <td>1335</td>\n",
       "      <td>PlinyYounger</td>\n",
       "      <td>PlinyYounger_1335</td>\n",
       "    </tr>\n",
       "    <tr>\n",
       "      <th>118304</th>\n",
       "      <td>videbamus</td>\n",
       "      <td>O</td>\n",
       "      <td>1335</td>\n",
       "      <td>PlinyYounger</td>\n",
       "      <td>PlinyYounger_1335</td>\n",
       "    </tr>\n",
       "    <tr>\n",
       "      <th>118305</th>\n",
       "      <td>posse</td>\n",
       "      <td>O</td>\n",
       "      <td>1335</td>\n",
       "      <td>PlinyYounger</td>\n",
       "      <td>PlinyYounger_1335</td>\n",
       "    </tr>\n",
       "    <tr>\n",
       "      <th>118306</th>\n",
       "      <td>superari</td>\n",
       "      <td>O</td>\n",
       "      <td>1335</td>\n",
       "      <td>PlinyYounger</td>\n",
       "      <td>PlinyYounger_1335</td>\n",
       "    </tr>\n",
       "    <tr>\n",
       "      <th>118307</th>\n",
       "      <td>,</td>\n",
       "      <td>O</td>\n",
       "      <td>1335</td>\n",
       "      <td>PlinyYounger</td>\n",
       "      <td>PlinyYounger_1335</td>\n",
       "    </tr>\n",
       "    <tr>\n",
       "      <th>118308</th>\n",
       "      <td>si</td>\n",
       "      <td>O</td>\n",
       "      <td>1335</td>\n",
       "      <td>PlinyYounger</td>\n",
       "      <td>PlinyYounger_1335</td>\n",
       "    </tr>\n",
       "    <tr>\n",
       "      <th>118309</th>\n",
       "      <td>per</td>\n",
       "      <td>O</td>\n",
       "      <td>1335</td>\n",
       "      <td>PlinyYounger</td>\n",
       "      <td>PlinyYounger_1335</td>\n",
       "    </tr>\n",
       "    <tr>\n",
       "      <th>118310</th>\n",
       "      <td>singulos</td>\n",
       "      <td>O</td>\n",
       "      <td>1335</td>\n",
       "      <td>PlinyYounger</td>\n",
       "      <td>PlinyYounger_1335</td>\n",
       "    </tr>\n",
       "    <tr>\n",
       "      <th>118311</th>\n",
       "      <td>carperetur</td>\n",
       "      <td>O</td>\n",
       "      <td>1335</td>\n",
       "      <td>PlinyYounger</td>\n",
       "      <td>PlinyYounger_1335</td>\n",
       "    </tr>\n",
       "    <tr>\n",
       "      <th>118312</th>\n",
       "      <td>.</td>\n",
       "      <td>O</td>\n",
       "      <td>1335</td>\n",
       "      <td>PlinyYounger</td>\n",
       "      <td>PlinyYounger_1335</td>\n",
       "    </tr>\n",
       "  </tbody>\n",
       "</table>\n",
       "</div>"
      ],
      "text/plain": [
       "                 word     tag sentence     orig_text            sent_id\n",
       "118273    delitescere       O     1333  PlinyYounger  PlinyYounger_1333\n",
       "118274         potest       O     1333  PlinyYounger  PlinyYounger_1333\n",
       "118275              .       O     1333  PlinyYounger  PlinyYounger_1333\n",
       "118276           Erat       O     1334  PlinyYounger  PlinyYounger_1334\n",
       "118277             in       O     1334  PlinyYounger  PlinyYounger_1334\n",
       "118278       consilio       O     1334  PlinyYounger  PlinyYounger_1334\n",
       "118279    Sertorianum  B-PERS     1334  PlinyYounger  PlinyYounger_1334\n",
       "118280          illud       O     1334  PlinyYounger  PlinyYounger_1334\n",
       "118281       exemplum       O     1334  PlinyYounger  PlinyYounger_1334\n",
       "118282              ,       O     1334  PlinyYounger  PlinyYounger_1334\n",
       "118283            qui       O     1334  PlinyYounger  PlinyYounger_1334\n",
       "118284  robustissimum       O     1334  PlinyYounger  PlinyYounger_1334\n",
       "118285             et       O     1334  PlinyYounger  PlinyYounger_1334\n",
       "118286  infirmissimum       O     1334  PlinyYounger  PlinyYounger_1334\n",
       "118287        militem       O     1334  PlinyYounger  PlinyYounger_1334\n",
       "118288         iussit       O     1334  PlinyYounger  PlinyYounger_1334\n",
       "118289         caudam       O     1334  PlinyYounger  PlinyYounger_1334\n",
       "118290           equi       O     1334  PlinyYounger  PlinyYounger_1334\n",
       "118291              -       O     1334  PlinyYounger  PlinyYounger_1334\n",
       "118292        reliqua       O     1334  PlinyYounger  PlinyYounger_1334\n",
       "118293          nosti       O     1334  PlinyYounger  PlinyYounger_1334\n",
       "118294              .       O     1334  PlinyYounger  PlinyYounger_1334\n",
       "118295            Nam       O     1335  PlinyYounger  PlinyYounger_1335\n",
       "118296            nos       O     1335  PlinyYounger  PlinyYounger_1335\n",
       "118297         quoque       O     1335  PlinyYounger  PlinyYounger_1335\n",
       "118298            tam       O     1335  PlinyYounger  PlinyYounger_1335\n",
       "118299      numerosum       O     1335  PlinyYounger  PlinyYounger_1335\n",
       "118300          agmen       O     1335  PlinyYounger  PlinyYounger_1335\n",
       "118301         reorum       O     1335  PlinyYounger  PlinyYounger_1335\n",
       "118302            ita       O     1335  PlinyYounger  PlinyYounger_1335\n",
       "118303          demum       O     1335  PlinyYounger  PlinyYounger_1335\n",
       "118304      videbamus       O     1335  PlinyYounger  PlinyYounger_1335\n",
       "118305          posse       O     1335  PlinyYounger  PlinyYounger_1335\n",
       "118306       superari       O     1335  PlinyYounger  PlinyYounger_1335\n",
       "118307              ,       O     1335  PlinyYounger  PlinyYounger_1335\n",
       "118308             si       O     1335  PlinyYounger  PlinyYounger_1335\n",
       "118309            per       O     1335  PlinyYounger  PlinyYounger_1335\n",
       "118310       singulos       O     1335  PlinyYounger  PlinyYounger_1335\n",
       "118311     carperetur       O     1335  PlinyYounger  PlinyYounger_1335\n",
       "118312              .       O     1335  PlinyYounger  PlinyYounger_1335"
      ]
     },
     "execution_count": 110,
     "metadata": {},
     "output_type": "execute_result"
    }
   ],
   "source": [
    "hel.tail(40)"
   ]
  },
  {
   "cell_type": "code",
   "execution_count": 111,
   "metadata": {},
   "outputs": [],
   "source": [
    "import re\n",
    "pattern = r'(?!\\w+\\.)(\\W\\w+|\\w+\\W)' #first negative lookahead is to ignore all the letter + point cases which the training script can handle\n",
    "\n",
    "main_df['special'] = main_df['word'].apply(lambda x: True if re.match(pattern, x) != None else False)"
   ]
  },
  {
   "cell_type": "code",
   "execution_count": 112,
   "metadata": {},
   "outputs": [],
   "source": [
    "check = main_df[main_df['special'] != False]"
   ]
  },
  {
   "cell_type": "code",
   "execution_count": 113,
   "metadata": {},
   "outputs": [
    {
     "data": {
      "text/plain": [
       "<COLON>                         1079\n",
       "δ᾽                                 2\n",
       "MenelaÉPOSft-lemma=<unknown>       2\n",
       "?POSft-lemma=<unknown>             1\n",
       "δ᾽ἕτερον                           1\n",
       "ἐπ᾽                                1\n",
       "τ᾽                                 1\n",
       "γ᾽                                 1\n",
       "ἤστραπτ᾽                           1\n",
       "῾ελλάδα                            1\n",
       "Name: word, dtype: int64"
      ]
     },
     "execution_count": 113,
     "metadata": {},
     "output_type": "execute_result"
    }
   ],
   "source": [
    "check['word'].value_counts()"
   ]
  },
  {
   "cell_type": "code",
   "execution_count": 114,
   "metadata": {},
   "outputs": [],
   "source": [
    "#dropping the above cases from the main_df\n",
    "main_df.drop(main_df[main_df['special'] == True].index, inplace=True)\n",
    "main_df.reset_index(drop=True, inplace=True)"
   ]
  },
  {
   "cell_type": "code",
   "execution_count": 115,
   "metadata": {},
   "outputs": [
    {
     "data": {
      "text/plain": [
       "False    134785\n",
       "Name: special, dtype: int64"
      ]
     },
     "execution_count": 115,
     "metadata": {},
     "output_type": "execute_result"
    }
   ],
   "source": [
    "main_df['special'].value_counts()"
   ]
  },
  {
   "cell_type": "code",
   "execution_count": 116,
   "metadata": {},
   "outputs": [],
   "source": [
    "main_df.drop(['special'], axis=1, inplace=True)"
   ]
  },
  {
   "cell_type": "code",
   "execution_count": 117,
   "metadata": {},
   "outputs": [
    {
     "name": "stdout",
     "output_type": "stream",
     "text": [
      "<class 'pandas.core.frame.DataFrame'>\n",
      "RangeIndex: 134785 entries, 0 to 134784\n",
      "Data columns (total 5 columns):\n",
      " #   Column     Non-Null Count   Dtype \n",
      "---  ------     --------------   ----- \n",
      " 0   word       134785 non-null  object\n",
      " 1   tag        134785 non-null  object\n",
      " 2   sentence   134785 non-null  int64 \n",
      " 3   orig_text  134785 non-null  object\n",
      " 4   sent_id    134785 non-null  object\n",
      "dtypes: int64(1), object(4)\n",
      "memory usage: 5.1+ MB\n"
     ]
    }
   ],
   "source": [
    "main_df.info()"
   ]
  },
  {
   "cell_type": "code",
   "execution_count": 118,
   "metadata": {},
   "outputs": [],
   "source": [
    "main_df.to_csv('data/latin_NER_dataset_improved.csv')"
   ]
  },
  {
   "cell_type": "markdown",
   "metadata": {},
   "source": [
    "## check ents"
   ]
  },
  {
   "cell_type": "code",
   "execution_count": 119,
   "metadata": {},
   "outputs": [],
   "source": [
    "GRP = main_df[main_df['tag'].str.endswith('GRP')]"
   ]
  },
  {
   "cell_type": "code",
   "execution_count": 120,
   "metadata": {},
   "outputs": [
    {
     "data": {
      "text/plain": [
       "Romani         84\n",
       "Gallorum       36\n",
       "Romanis        32\n",
       "Romanorum      31\n",
       "Germani        31\n",
       "Romanos        29\n",
       "Galli          27\n",
       "Gallis         26\n",
       "Germanorum     23\n",
       "Helvetii       23\n",
       "Germanos       23\n",
       "Aeduorum       22\n",
       "Romano         22\n",
       "Germanis       19\n",
       "Aeduis         18\n",
       "Aeduos         16\n",
       "Gallos         16\n",
       "Helvetiorum    15\n",
       "Aedui          15\n",
       "Graeci         14\n",
       "Carnutes       14\n",
       "Helvetios      14\n",
       "Romanum        14\n",
       "Sequanos       13\n",
       "Haeduos        13\n",
       "Arvernis       13\n",
       "Haeduorum      13\n",
       "Treverorum     13\n",
       "Remis          12\n",
       "Sequanis       12\n",
       "Helvetiis      12\n",
       "Graece         12\n",
       "Haeduis        12\n",
       "Bellovacos     11\n",
       "Belgis         10\n",
       "Bituriges      10\n",
       "Remorum        10\n",
       "Treveros       10\n",
       "Biturigum       9\n",
       "Haedui          9\n",
       "Name: word, dtype: int64"
      ]
     },
     "execution_count": 120,
     "metadata": {},
     "output_type": "execute_result"
    }
   ],
   "source": [
    "GRP.word.value_counts()[:40]"
   ]
  },
  {
   "cell_type": "code",
   "execution_count": null,
   "metadata": {},
   "outputs": [],
   "source": []
  }
 ],
 "metadata": {
  "kernelspec": {
   "display_name": "Python 3 (ipykernel)",
   "language": "python",
   "name": "python3"
  },
  "language_info": {
   "codemirror_mode": {
    "name": "ipython",
    "version": 3
   },
   "file_extension": ".py",
   "mimetype": "text/x-python",
   "name": "python",
   "nbconvert_exporter": "python",
   "pygments_lexer": "ipython3",
   "version": "3.10.9"
  }
 },
 "nbformat": 4,
 "nbformat_minor": 2
}
